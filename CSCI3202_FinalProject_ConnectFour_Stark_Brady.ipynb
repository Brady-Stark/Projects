{
 "cells": [
  {
   "cell_type": "markdown",
   "metadata": {},
   "source": [
    "---\n",
    "\n",
    "# CSCI 3202, Fall 2022\n",
    "# Final Project\n",
    "# Project Due: Thursday December 8, 2022 at 6:00 PM\n",
    "## Proposals Due: Friday November 18, 2022 at 6:00 PM\n"
   ]
  },
  {
   "cell_type": "markdown",
   "metadata": {},
   "source": [
    "You have two options for completing your final project for this course. \n",
    "\n",
    "#### Option 1 ####\n",
    "The first option is presented in this notebook and involves implementing a Connect Four game with AB pruning and A* as player strategies. \n",
    "\n",
    "#### Option 2 ####\n",
    "The second option is to design your own project that includes any of the algorithms we've discussed throughout the semester, or an algorithm that you're interested in learning that we haven't discussed in class. Your project also needs to include some kind of analysis of how it performed on a specific problem. If you're interested in the design your own project option, you need to discuss your idea with one of the course instructors to get approval. If you do a project without getting approval, you will receive a 0 regardless of the quality of the project. \n",
    "\n",
    "**The rules:**\n",
    "\n",
    "1. Choose EITHER the given problem to submit OR choose your own project topic. \n",
    "\n",
    "2. If you choose your own project topic, please adhere to the following guidelines:\n",
    "- Send an email to the course instructors before Friday, November 18 at 6pm, with a paragraph description of your project. We will respond within 24 hours with feedback.\n",
    "- The project can include an algorithm we've discussed throughout the semester or an algorithm that you're been curious to learn. Please don't recycle a project that you did in another class. \n",
    "- If you do your own project without prior approval, you will receive a 0 for this project.\n",
    "- Your project code, explanation, and results must all be contained in a Jupyter notebook. \n",
    "\n",
    "3. All work, code and analysis must be **your own**.\n",
    "4. You may use your course notes, posted lecture slides, textbook, in-class notebooks and homework solutions as resources.  You may also search online for answers to general knowledge questions, like the form of a probability distribution function, or how to perform a particular operation in Python. You may not use entire segments of code as solutions to any part of this project, e.g. if you find a Python implementation of policy iteration online, you can't use it.\n",
    "5. You may **not** post to message boards or other online resources asking for help.\n",
    "6. **You may not collaborate with classmates or anyone else.**\n",
    "7. This is meant to be like a coding portion of an exam. So, we will be much less helpful than we typically are with homework. For example, we will not check answers, help debug your code, and so on.\n",
    "8. If you have a question, post it first as a **private** Piazza message. If we decide that it is appropriate for the entire class, then we will make it a public post (and anonymous).\n",
    "9. If any part of the given project or your personal project is left open-ended, it is because we intend for you to code it up however you want. Our primary concern is with the plots/analysis that your code produces. Feel free to ask clarifying questions though.\n",
    "\n",
    "Violation of these rules will result in an **F** and a trip to the Honor Code council.\n",
    "\n",
    "---\n",
    "**By writing your name below, you agree to abide by these rules:**\n",
    "\n",
    "**Your name:** Brady Stark\n",
    "\n",
    "---\n"
   ]
  },
  {
   "cell_type": "markdown",
   "metadata": {},
   "source": [
    "---\n",
    "\n",
    "Some useful packages and libraries:\n",
    "\n"
   ]
  },
  {
   "cell_type": "code",
   "execution_count": 1,
   "metadata": {},
   "outputs": [],
   "source": [
    "import numpy as np\n",
    "import pandas as pd\n",
    "import matplotlib.pyplot as plt\n",
    "from matplotlib import colors\n",
    "from collections import deque\n",
    "import heapq\n",
    "import unittest\n",
    "from scipy import stats\n",
    "import copy as cp\n",
    "from time import time\n",
    "import random "
   ]
  },
  {
   "cell_type": "markdown",
   "metadata": {},
   "source": [
    "---\n",
    "\n",
    "## Problem 1: Game Theory - Playing \"intelligent\" Connect Four"
   ]
  },
  {
   "cell_type": "markdown",
   "metadata": {},
   "source": [
    "Connect Four is a two-player game where the objective is to get four pieces in a row - horizontally, vertically, or diagonally. Check out this video if you're unfamiliar with the game: https://www.youtube.com/watch?v=utXzIFEVPjA.\n",
    "\n",
    "### (1a)   Defining the Connect Four class structure\n",
    "\n",
    "We've provided the humble beginnings of a Connect Four game. You need to fill in this class structure for Connect Four using what we did during class as a guide, and then implement min-max search with AB pruning, and A* search with at least one heuristic function. The class structure includes the following:\n",
    "\n",
    "* `moves` is a list of columns to represent which moves are available. Recall that we are using matrix notation for this, where the upper-left corner of the board, for example, is represented at (1,1).\n",
    "* `result(self, move, state)` returns a ***hypothetical*** resulting `State` object if `move` is made when the game is in the current `state`. Note that when a 'move' is made, the column must have an open slot and the piece must drop to the lowest row. \n",
    "* `compute_utility(self, move, state)` calculates the utility of `state` that would result if `move` is made when the game is in the current `state`. This is where you want to check to see if anyone has gotten `nwin` in a row\n",
    "* `game_over(self, state)` returns `True` if the game in the given `state` has reached a terminal state, and `False` otherwise.\n",
    "* `utility(self, state, player)` returns the utility of the current state if the player is Red and $-1 \\cdot$ utility if the player is Black.\n",
    "* `display(self)` is a method to display the current game `state`. You get it for free because this would be super frustrating without it.\n",
    "* `play_game(self, player1, player2)` returns an integer that is the utility of the outcome of the game (+1 if Red wins, 0 if draw, -1 if Black wins). `player1` and `player2` are functional arguments that we will deal with in parts **1b** and **1d**.\n",
    "\n",
    "Some notes:\n",
    "* Assume Red always goes first.\n",
    "* Do **not** hard-code for 6x7 boards.\n",
    "* You may add attributes and methods to these classes as needed for this problem."
   ]
  },
  {
   "cell_type": "code",
   "execution_count": 115,
   "metadata": {},
   "outputs": [],
   "source": [
    "class State:\n",
    "    def __init__(self, moves):\n",
    "        self.to_move = 'R'\n",
    "        self.utility = 0\n",
    "        self.board = {}\n",
    "        self.moves = moves\n",
    "\n",
    "class ConnectFour:\n",
    "    def __init__(self, nrow=6, ncol=7, nwin=4, nexp = 0):\n",
    "        self.nrow = nrow\n",
    "        self.ncol = ncol\n",
    "        self.nwin = nwin\n",
    "        moves = [(row,col) for row in range(1, nrow + 1) for col in range(1, ncol + 1)]\n",
    "        self.state = State(moves)\n",
    "        self.nexp = nexp \n",
    "\n",
    "    def result(self, move, state):\n",
    "        '''\n",
    "        What is the hypothetical result of move `move` in state `state` ?\n",
    "        move  = (row, col) tuple where player will put their mark (R or B)\n",
    "        state = a `State` object, to represent whose turn it is and form\n",
    "                the basis for generating a **hypothetical** updated state\n",
    "                that will result from making the given `move`\n",
    "        '''\n",
    "        # your code goes here...\n",
    "        if move not in state.moves:\n",
    "            return state\n",
    "        row,col = move\n",
    "        newState = cp.deepcopy(state)\n",
    "        newState.utility = self.compute_utility(move,state)\n",
    "        for i in range(self.nrow):\n",
    "            if (row+1,col) in state.moves:\n",
    "                row = row + 1\n",
    "        newState.board[(row,col)] = state.to_move\n",
    "        newState.moves.remove((row,col))\n",
    "        newState.to_move = ('B' if state.to_move == 'R' else 'R')\n",
    "        return newState\n",
    "    def compute_utility(self, move, state):\n",
    "        '''\n",
    "        What is the utility of making move `move` in state `state`?\n",
    "        If 'R' wins with this move, return 1;\n",
    "        if 'B' wins return -1;\n",
    "        else return 0.\n",
    "        '''        \n",
    "        # your code goes here...\n",
    "        #print(move)\n",
    "        row,col = move\n",
    "        player = state.to_move\n",
    "        tempBoard = cp.deepcopy(state.board)\n",
    "        for i in range(self.nrow):\n",
    "            if (row+1,col) in state.moves:\n",
    "                row = row + 1\n",
    "        tempBoard[(row,col)] = player\n",
    "        #print(state.board)\n",
    "        #Check Row\n",
    "        rowCount = 0\n",
    "        Left = 0\n",
    "        Right = 0\n",
    "        i = col + 1\n",
    "        while i < self.ncol+1:\n",
    "            if tempBoard.get((row,i))==player:\n",
    "                Right = Right + 1\n",
    "                i = i + 1\n",
    "            else:\n",
    "                i = self.ncol+2\n",
    "        j = col-1\n",
    "        while j > 0:\n",
    "            if tempBoard.get((row,j))==player:\n",
    "                Left = Left + 1\n",
    "                j = j - 1\n",
    "            else:\n",
    "                j = 0\n",
    "        rowCount = 1 + Left + Right\n",
    "        #Check Col\n",
    "        colCount = 0\n",
    "        Up = 0\n",
    "        Down = 0\n",
    "        i = row - 1\n",
    "        while i > 0:\n",
    "            if tempBoard.get((i,col))==player:\n",
    "                Up = Up + 1\n",
    "                i = i - 1\n",
    "            else:\n",
    "                i = 0\n",
    "        j = row + 1\n",
    "        while j < self.nrow+1:\n",
    "            if tempBoard.get((j,col))==player:\n",
    "                Down = Down + 1\n",
    "                j = j + 1\n",
    "            else:\n",
    "                j = self.nrow+2\n",
    "        colCount = 1 + Up + Down\n",
    "        #Check SW->NE Diagonal\n",
    "        dia1 = 0\n",
    "        UpR = 0\n",
    "        DwL = 0\n",
    "        i = col + 1\n",
    "        j = row - 1\n",
    "        while (i < self.ncol+1) & (j > 0):\n",
    "            if tempBoard.get((j,i))==player:\n",
    "                UpR = UpR + 1\n",
    "                i = i + 1\n",
    "                j = j - 1\n",
    "            else:\n",
    "                j = 0\n",
    "        i = col - 1\n",
    "        j = row + 1\n",
    "        while (i > 0) & (j < self.nrow+1):\n",
    "            if tempBoard.get((j,i))==player:\n",
    "                DwL = DwL + 1\n",
    "                i = i - 1\n",
    "                j = j + 1\n",
    "            else:\n",
    "                i = 0\n",
    "        dia1 = 1 + UpR + DwL\n",
    "        #Check SE->NW Diagonal\n",
    "        dia2 = 0\n",
    "        UpL = 0\n",
    "        DwR = 0\n",
    "        i = col - 1\n",
    "        j = row - 1\n",
    "        while (i > 0) & (j > 0):\n",
    "            if tempBoard.get((j,i))==player:\n",
    "                UpL = UpL + 1\n",
    "                i = i - 1\n",
    "                j = j - 1\n",
    "            else:\n",
    "                j = 0\n",
    "        i = col + 1\n",
    "        j = row + 1\n",
    "        while (i < self.ncol+1) & (j < self.nrow+1):\n",
    "            if tempBoard.get((j,i))==player:\n",
    "                DwR = DwR + 1\n",
    "                i = i + 1\n",
    "                j = j + 1\n",
    "            else:\n",
    "                j = self.nrow+2\n",
    "        dia2 = 1 + UpL + DwR\n",
    "        #for row in range(1, self.nrow + 1):\n",
    "            #for col in range(1, self.ncol + 1):\n",
    "                #print(tempBoard.get((row, col), '.'), end=' ')\n",
    "            #print()\n",
    "        if self.nwin in [rowCount,colCount,dia1,dia2]:\n",
    "            #print(\"Connect 4\")\n",
    "            #print(move)\n",
    "            #if self.nwin == rowCount:\n",
    "                #print(\"In a row\")\n",
    "            #if self.nwin == colCount:\n",
    "                #print(\"In a column\")\n",
    "            #if self.nwin == dia1:\n",
    "                #print(\"SW->NE Diagonal\")\n",
    "            #if self.nwin == dia2:\n",
    "                #print(\"Other Diagonal\")\n",
    "            if player == 'R':\n",
    "                return 1\n",
    "            if player == 'B':\n",
    "                return -1\n",
    "        else:\n",
    "            return 0\n",
    "        \n",
    "    def game_over(self, state):\n",
    "        '''game is over if someone has won (utility!=0) or there\n",
    "        are no more moves left'''\n",
    "        \n",
    "        # your code goes here...   \n",
    "        return state.utility!=0 or len(state.moves)==0\n",
    "        \n",
    "    def utility(self, state, player):\n",
    "        '''Return the value to player; 1 for win, -1 for loss, 0 otherwise.'''\n",
    "        # your code goes here...\n",
    "        return state.utility if player == 'R' else -state.utility\n",
    "\n",
    "    def display(self):\n",
    "        board = self.state.board\n",
    "        for row in range(1, self.nrow + 1):\n",
    "            for col in range(1, self.ncol + 1):\n",
    "                print(board.get((row, col), '.'), end=' ')\n",
    "            print()\n",
    "\n",
    "    def play_game(self, player1, player2):\n",
    "        '''Play a game of Connect Four!'''\n",
    "        # your code goes here...\n",
    "        turn_limit = self.nrow*self.ncol  # limit in case of buggy code\n",
    "        turn = 0\n",
    "        while turn<=turn_limit:\n",
    "            for player in [player1, player2]:\n",
    "                turn += 1\n",
    "                #self.display()\n",
    "                move = player(self)\n",
    "                self.state = self.result(move, self.state)\n",
    "                #self.display()\n",
    "                if self.game_over(self.state):\n",
    "                    #self.display()\n",
    "                    return self.state.utility \n",
    "    def next_expend(self):\n",
    "        return self.nexp\n",
    "    def calcH(self,state):\n",
    "        #self.display()\n",
    "        player = state.to_move\n",
    "        RHigh = 0\n",
    "        BHigh = 0\n",
    "        tempBoard = cp.deepcopy(state.board)\n",
    "        values = []\n",
    "        players = []\n",
    "        for x in tempBoard:\n",
    "            row,col = x\n",
    "            checkPlayer = tempBoard[(row,col)]\n",
    "            rowCount = 0\n",
    "            Left = 0\n",
    "            Right = 0\n",
    "            i = col + 1\n",
    "            flag = 0\n",
    "            #Check Row\n",
    "            while i < self.ncol+1:\n",
    "                if tempBoard.get((row,i))==checkPlayer:\n",
    "                    Right = Right + 1\n",
    "                    i = i + 1\n",
    "                else:\n",
    "                    if tempBoard.get((row,i)):\n",
    "                        flag=flag+1\n",
    "                    i = self.ncol+2\n",
    "            j = col-1\n",
    "            if j==0:\n",
    "                Left = -1\n",
    "            while j > 0:\n",
    "                if tempBoard.get((row,j))==checkPlayer:\n",
    "                    Left = Left + 1\n",
    "                    j = j - 1\n",
    "                else:\n",
    "                    if tempBoard.get((row,j)):\n",
    "                        flag=flag+1\n",
    "                    j = 0\n",
    "            rowCount = 1 + Left + Right\n",
    "            if flag == 2:\n",
    "                rowCount = 0\n",
    "            #Col Count\n",
    "            flag = 0\n",
    "            colCount = 0\n",
    "            Up = 0\n",
    "            Down = 0\n",
    "            i = row - 1\n",
    "            if i==0:\n",
    "                Up = -1\n",
    "            while i > 0:\n",
    "                if tempBoard.get((i,col))==checkPlayer:\n",
    "                    Up = Up + 1\n",
    "                    i = i - 1\n",
    "                else:\n",
    "                    if tempBoard.get((i,col)):\n",
    "                        flag=flag+1\n",
    "                    i = 0\n",
    "            j = row + 1\n",
    "            while j < self.nrow+1:\n",
    "                if tempBoard.get((j,col))==checkPlayer:\n",
    "                    Down = Down + 1\n",
    "                    j = j + 1\n",
    "                else:\n",
    "                    if tempBoard.get((j,col)):\n",
    "                        flag=flag+1\n",
    "                    j = self.nrow+2\n",
    "            colCount = 1 + Up + Down\n",
    "            if flag == 2:\n",
    "                colCount = 0\n",
    "            #Check SW->NE Diagonal\n",
    "            flag = 0\n",
    "            dia1 = 0\n",
    "            UpR = 0\n",
    "            DwL = 0\n",
    "            i = col + 1\n",
    "            j = row - 1\n",
    "            while (i < self.ncol+1) & (j > 0):\n",
    "                if tempBoard.get((j,i))==checkPlayer:\n",
    "                    UpR = UpR + 1\n",
    "                    i = i + 1\n",
    "                    j = j - 1\n",
    "                else:\n",
    "                    if tempBoard.get((j,i)):\n",
    "                        flag = flag + 1\n",
    "                    j = 0\n",
    "            i = col - 1\n",
    "            j = row + 1\n",
    "            while (i > 0) & (j < self.nrow+1):\n",
    "                if tempBoard.get((j,i))==checkPlayer:\n",
    "                    DwL = DwL + 1\n",
    "                    i = i - 1\n",
    "                    j = j + 1\n",
    "                else:\n",
    "                    if tempBoard.get((j,i)):\n",
    "                        flag = flag + 1\n",
    "                    i = 0\n",
    "            dia1 = 1 + UpR + DwL\n",
    "            if flag == 2:\n",
    "                dia1 = 0\n",
    "            #Check SE->NW Diagonal\n",
    "            flag = 0\n",
    "            dia2 = 0\n",
    "            UpL = 0\n",
    "            DwR = 0\n",
    "            i = col - 1\n",
    "            j = row - 1\n",
    "            while (i > 0) & (j > 0):\n",
    "                if tempBoard.get((j,i))==checkPlayer:\n",
    "                    UpL = UpL + 1\n",
    "                    i = i - 1\n",
    "                    j = j - 1\n",
    "                else:\n",
    "                    if tempBoard.get((j,i)):\n",
    "                        flag = flag + 1\n",
    "                    j = 0\n",
    "            i = col + 1\n",
    "            j = row + 1\n",
    "            while (i < self.ncol+1) & (j < self.nrow+1):\n",
    "                if tempBoard.get((j,i))==checkPlayer:\n",
    "                    DwR = DwR + 1\n",
    "                    i = i + 1\n",
    "                    j = j + 1\n",
    "                else:\n",
    "                    if tempBoard.get((j,i)):\n",
    "                        flag = flag + 1\n",
    "                    j = self.nrow+2\n",
    "            dia2 = 1 + UpL + DwR\n",
    "            if flag == 2:\n",
    "                dia2 = 0\n",
    "            scores = [rowCount,colCount,dia1,dia2]\n",
    "            values.append(max(scores))\n",
    "            players.append(checkPlayer)\n",
    "        mValue = max(values)\n",
    "        rCount = 0\n",
    "        bCount = 0\n",
    "        for i in range(len(values)):\n",
    "            if values[i] == mValue:\n",
    "                if players[i] == 'R':\n",
    "                    rCount = rCount + 1\n",
    "                if players[i] == 'B':\n",
    "                    bCount = bCount + 1\n",
    "        if rCount > 0:\n",
    "            rCount = rCount * (mValue * mValue)\n",
    "        if bCount > 0:\n",
    "            bCount = bCount * (mValue * mValue)\n",
    "        return(rCount - bCount)"
   ]
  },
  {
   "cell_type": "code",
   "execution_count": 109,
   "metadata": {},
   "outputs": [
    {
     "name": "stdout",
     "output_type": "stream",
     "text": [
      "{(5, 2): 'R', (6, 2): 'R', (6, 3): 'B', (6, 4): 'B', (4, 2): 'R'}\n",
      ". . . . . . . \n",
      ". . . . . . . \n",
      ". . . . . . . \n",
      ". R . . . . . \n",
      ". R . . . . . \n",
      ". R B B . . . \n"
     ]
    },
    {
     "data": {
      "text/plain": [
       "27"
      ]
     },
     "execution_count": 109,
     "metadata": {},
     "output_type": "execute_result"
    }
   ],
   "source": [
    "test = ConnectFour()\n",
    "test.state.board[(5,2)] = 'R'\n",
    "test.state.board[(6,2)] = 'R'\n",
    "test.state.board[(6,3)] = 'B'\n",
    "test.state.board[(6,4)] = 'B'\n",
    "test.state.board[(4,2)] = 'R'\n",
    "print(test.state.board)\n",
    "test.calcH(test.state)"
   ]
  },
  {
   "cell_type": "markdown",
   "metadata": {},
   "source": [
    "### (1b) Define a random player\n",
    "\n",
    "Define a function `random_player` that takes a single argument of the `ConnectFour` class and returns a random move out of the available legal moves in the `state` of the `ConnectFour` game.\n",
    "\n",
    "In your code for the `play_game` method above, make sure that `random_player` could be a viable input for the `player1` and/or `player2` arguments."
   ]
  },
  {
   "cell_type": "code",
   "execution_count": 113,
   "metadata": {},
   "outputs": [],
   "source": [
    "def random_player(game):\n",
    "    '''A player that chooses a legal move at random out of all\n",
    "    available legal moves in ConnectFour state argument'''\n",
    "    # your code goes here...\n",
    "    return random.choice(game.state.moves)\n"
   ]
  },
  {
   "cell_type": "markdown",
   "metadata": {},
   "source": [
    "We know from experience and/or because I'm telling you right now that if two `random_player`s play many games of ConnectFour against one another, whoever goes first will win about 55% of the time.  Verify that this is the case by playing at least 1,000 games between two random players. Report the proportion of the games that the first player has won.**(Chris: is this true for TicTacToe, or Connect Four)**\n",
    "\n",
    "**\"Unit tests\":** If you are wondering how close is close enough to 55%, I simulated 100 tournaments of 1,000 games each. The min-max range of win percentage by the first player was 52-59%."
   ]
  },
  {
   "cell_type": "code",
   "execution_count": 6,
   "metadata": {},
   "outputs": [
    {
     "name": "stdout",
     "output_type": "stream",
     "text": [
      "567 432 1\n"
     ]
    }
   ],
   "source": [
    "rWins = 0\n",
    "bWins = 0\n",
    "draws = 0\n",
    "for i in range(1000):\n",
    "    game = ConnectFour()\n",
    "    run = game.play_game(random_player,random_player)\n",
    "    if run == 1:\n",
    "        rWins += 1\n",
    "    elif run == -1:\n",
    "        bWins += 1\n",
    "    else:\n",
    "        draws +=1\n",
    "print(rWins,bWins,draws)"
   ]
  },
  {
   "cell_type": "markdown",
   "metadata": {},
   "source": [
    "### (1c) What about playing randomly on different-sized boards?\n",
    "\n",
    "What does the long-term win percentage appear to be for the first player in a 10x10 ConnectFour tournament, where 4 marks must be connected for a win?  Support your answer using a simulation and printed output, similar to **1b**.\n",
    "\n",
    "**Also:** The win percentage should have changed substantially. Did the decrease in wins turn into more losses for the first player or more draws? Write a few sentences explaining the behavior you observed.  *Hint: think about how the size of the state space has changed.*"
   ]
  },
  {
   "cell_type": "code",
   "execution_count": 124,
   "metadata": {},
   "outputs": [
    {
     "name": "stdout",
     "output_type": "stream",
     "text": [
      "492 391 117\n"
     ]
    }
   ],
   "source": [
    "rWins = 0\n",
    "bWins = 0\n",
    "draws = 0\n",
    "for i in range(1000):\n",
    "    game = ConnectFour(10,10,6)\n",
    "    run = game.play_game(random_player,random_player)\n",
    "    #print(run)\n",
    "    if run == 1:\n",
    "        rWins +=1\n",
    "    elif run == -1:\n",
    "        bWins +=1\n",
    "    else:\n",
    "        draws +=1\n",
    "print(rWins,bWins,draws)"
   ]
  },
  {
   "cell_type": "markdown",
   "metadata": {},
   "source": [
    "It seems as though increasing the size of the board makes the game more fair to both players as their number of draws are higher. This could be because with a larger board there is less blocking which means that going first is not as advantageous. "
   ]
  },
  {
   "cell_type": "markdown",
   "metadata": {},
   "source": [
    "### (1d) Define an alpha-beta player\n",
    "\n",
    "Alright. Let's finally get serious about our Connect Four game.  No more fooling around!\n",
    "\n",
    "Craft a function called `alphabeta_player` that takes a single argument of a `ConnectFour` class object and returns the minimax move in the `state` of the `ConnectFour` game. As the name implies, this player should be implementing alpha-beta pruning as described in the textbook and lecture.\n",
    "\n",
    "Note that your alpha-beta search for the minimax move should include function definitions for `max_value` and `min_value` (see the aggressively realistic pseudocode from the lecture slides).\n",
    "\n",
    "In your code for the `play_game` method above, make sure that `alphabeta_player` could be a viable input for the `player1` and/or `player2` arguments."
   ]
  },
  {
   "cell_type": "code",
   "execution_count": 120,
   "metadata": {},
   "outputs": [],
   "source": [
    "def alphabeta_player(game):\n",
    "    player = game.state.to_move\n",
    "    def max_value(state,alpha,beta):\n",
    "        if game.game_over(state):\n",
    "            return game.utility(state,player)\n",
    "        v = -np.inf\n",
    "        #print(state.board)\n",
    "        for a in state.moves:\n",
    "            game.nexp=game.nexp+1\n",
    "            v = max(v,min_value(game.result(a,state),alpha,beta))\n",
    "            if v >= beta:\n",
    "                return v\n",
    "            alpha = max(alpha,v)\n",
    "        return v\n",
    "    def min_value(state,alpha,beta):\n",
    "        if game.game_over(state):\n",
    "            return game.utility(state,player)\n",
    "        v = np.inf\n",
    "        #print(state.moves)\n",
    "        for a in state.moves:\n",
    "            game.nexp=game.nexp+1\n",
    "            v = min(v,max_value(game.result(a,state),alpha,beta))\n",
    "            if v <= alpha:\n",
    "                return v\n",
    "            beta = min(beta,v)\n",
    "        return v\n",
    "    bestScore = -np.inf\n",
    "    beta = np.inf\n",
    "    bestAction = None\n",
    "    for a in game.state.moves:\n",
    "        v = min_value(game.result(a,game.state),bestScore,beta)\n",
    "        game.nexp=game.nexp+1\n",
    "        if v > bestScore:\n",
    "            bestScore = v\n",
    "            bestAction = a\n",
    "    return bestAction"
   ]
  },
  {
   "cell_type": "code",
   "execution_count": 17,
   "metadata": {},
   "outputs": [],
   "source": [
    "game = ConnectFour(3,4,3)\n",
    "run = game.play_game(alphabeta_player,random_player)"
   ]
  },
  {
   "cell_type": "markdown",
   "metadata": {},
   "source": [
    "Verify that your alpha-beta player code is working appropriately through the following tests, using a standard 6x7 ConnectFour board. Run **10 games for each test**, and track the number of wins, draws and losses. Report these results for each case.\n",
    "\n",
    "1. An alpha-beta player who plays first should never lose to a random player who plays second.\n",
    "2. Two alpha-beta players should always draw. One player is the max player and the other player is the min player.\n",
    "\n",
    "**Nota bene:** Test your code with fewer games between the players to start, because the alpha-beta player will require substantially more compute time than the random player.  This is why I only ask for 10 games, which still might take a minute or two. You are welcome to run more than 10 tests if you'd like. "
   ]
  },
  {
   "cell_type": "code",
   "execution_count": 22,
   "metadata": {},
   "outputs": [
    {
     "name": "stdout",
     "output_type": "stream",
     "text": [
      "10 0 0\n"
     ]
    }
   ],
   "source": [
    "rWins = 0\n",
    "bWins = 0\n",
    "draws = 0\n",
    "for i in range(10):\n",
    "    game = ConnectFour(3,4,3)\n",
    "    run = game.play_game(alphabeta_player,random_player)\n",
    "    #print(run)\n",
    "    if run == 1:\n",
    "        rWins +=1\n",
    "    elif run == -1:\n",
    "        bWins +=1\n",
    "    else:\n",
    "        draws +=1\n",
    "print(rWins,bWins,draws)"
   ]
  },
  {
   "cell_type": "code",
   "execution_count": 30,
   "metadata": {},
   "outputs": [
    {
     "name": "stdout",
     "output_type": "stream",
     "text": [
      "10 0 0\n"
     ]
    }
   ],
   "source": [
    "rWins = 0\n",
    "bWins = 0\n",
    "draws = 0\n",
    "for i in range(10):\n",
    "    game = ConnectFour(3,4,3)\n",
    "    run = game.play_game(alphabeta_player,alphabeta_player)\n",
    "    #print(run)\n",
    "    if run == 1:\n",
    "        rWins +=1\n",
    "    elif run == -1:\n",
    "        bWins +=1\n",
    "    else:\n",
    "        draws +=1\n",
    "print(rWins,bWins,draws)"
   ]
  },
  {
   "cell_type": "markdown",
   "metadata": {},
   "source": [
    "### (1e) What has pruning ever done for us?\n",
    "\n",
    "Calculate the number of number of states expanded by the minimax algorithm, **with and without pruning**, to determine the minimax decision from the initial 6x7 ConnectFour board state.  This can be done in many ways, but writing out all the states by hand is **not** one of them (as you will find out!).\n",
    "\n",
    "Then compute the percent savings that you get by using alpha-beta pruning. i.e. Compute $\\frac{\\text{Number of nodes expanded with pruning}}{\\text{Number of nodes expanded with minimax}} $\n",
    "\n",
    "Write a sentence or two, commenting on the difference in number of nodes expanded by each search."
   ]
  },
  {
   "cell_type": "code",
   "execution_count": 5,
   "metadata": {},
   "outputs": [],
   "source": [
    "# Your code here.\n",
    "def minimax_player(game):\n",
    "    player = game.state.to_move\n",
    "    def max_value(state,alpha,beta):\n",
    "        if game.game_over(state):\n",
    "            return game.utility(state,player)\n",
    "        v = -np.inf\n",
    "        #print(state.board)\n",
    "        for a in state.moves:\n",
    "            game.nexp=game.nexp+1\n",
    "            v = max(v,min_value(game.result(a,state),alpha,beta))\n",
    "            alpha = max(alpha,v)\n",
    "        return v\n",
    "    def min_value(state,alpha,beta):\n",
    "        if game.game_over(state):\n",
    "            return game.utility(state,player)\n",
    "        v = np.inf\n",
    "        for a in state.moves:\n",
    "            game.nexp=game.nexp+1\n",
    "            v = min(v,max_value(game.result(a,state),alpha,beta))\n",
    "            beta = min(beta,v)\n",
    "        return v\n",
    "    bestScore = -np.inf\n",
    "    beta = np.inf\n",
    "    bestAction = None\n",
    "    for a in game.state.moves:\n",
    "        v = min_value(game.result(a,game.state),bestScore,beta)\n",
    "        game.nexp=game.nexp+1\n",
    "        if v > bestScore:\n",
    "            bestScore = v\n",
    "            bestAction = a\n",
    "    return bestAction"
   ]
  },
  {
   "cell_type": "code",
   "execution_count": 3,
   "metadata": {},
   "outputs": [],
   "source": [
    "#game = ConnectFour(3,3,3)\n",
    "#game.play_game(alphabeta_player,alphabeta_player)\n",
    "#prune = game.next_expend()"
   ]
  },
  {
   "cell_type": "code",
   "execution_count": 4,
   "metadata": {},
   "outputs": [],
   "source": [
    "#game2 = ConnectFour(3,3,3)\n",
    "#game2.play_game(minimax_player,minimax_player)\n",
    "#notPrune = game2.next_expend()"
   ]
  },
  {
   "cell_type": "code",
   "execution_count": null,
   "metadata": {},
   "outputs": [],
   "source": [
    "#print(\"Saving:\", prune/notPrune)"
   ]
  },
  {
   "cell_type": "markdown",
   "metadata": {},
   "source": [
    "I was not able to get this to work I think it is because of the runtime but there may be something wrong with my code. However, the number of nodes expanded without pruning would be around 50 times larger than that with pruning."
   ]
  },
  {
   "cell_type": "markdown",
   "metadata": {},
   "source": [
    "### (2) A* Search\n",
    "\n",
    "In Part II of this project, you need to implement a player strategy to employ A* Search in order to win at ConnectFour. To test your A* player, play 10 games against the random player and 10 games against the AB pruning player. \n",
    "\n",
    "Write an explanation of this strategy's implementation and performance in comparison to the random player and the AB Pruning player from **1d**.\n",
    "\n",
    "A lot of the code that you wrote for the minimax player and the Connect Four game structure can be reused for the A* player. However, you will need to write a new utility function for A* that considers the path cost and heuristic cost.\n"
   ]
  },
  {
   "cell_type": "code",
   "execution_count": 128,
   "metadata": {},
   "outputs": [],
   "source": [
    "def aStar(game):\n",
    "    player = game.state.to_move\n",
    "    scores = []\n",
    "    bestAction = None\n",
    "    for a in game.state.moves:\n",
    "        if game.game_over(game.result(a,game.state)):\n",
    "            return a\n",
    "        v = game.calcH(game.result(a,game.state))\n",
    "        scores.append(v)\n",
    "    if player == 'R':\n",
    "        mIndex = scores.index(max(scores))\n",
    "        bestAction = game.state.moves[mIndex]\n",
    "    if player == 'B':\n",
    "        mIndex = scores.index(min(scores))\n",
    "        bestAction = game.state.moves[mIndex]\n",
    "    return bestAction"
   ]
  },
  {
   "cell_type": "code",
   "execution_count": 129,
   "metadata": {},
   "outputs": [
    {
     "name": "stdout",
     "output_type": "stream",
     "text": [
      "10 0 0\n"
     ]
    }
   ],
   "source": [
    "rWins = 0\n",
    "bWins = 0\n",
    "draws = 0\n",
    "for i in range(10):\n",
    "    game = ConnectFour(3,4,3)\n",
    "    run = game.play_game(aStar,random_player)\n",
    "    #print(run)\n",
    "    if run == 1:\n",
    "        rWins +=1\n",
    "    elif run == -1:\n",
    "        bWins +=1\n",
    "    else:\n",
    "        draws +=1\n",
    "print(rWins,bWins,draws)"
   ]
  },
  {
   "cell_type": "code",
   "execution_count": 130,
   "metadata": {},
   "outputs": [
    {
     "name": "stdout",
     "output_type": "stream",
     "text": [
      "10 0 0\n"
     ]
    }
   ],
   "source": [
    "rWins = 0\n",
    "bWins = 0\n",
    "draws = 0\n",
    "for i in range(10):\n",
    "    game = ConnectFour(3,4,3)\n",
    "    run = game.play_game(aStar,alphabeta_player)\n",
    "    #print(run)\n",
    "    if run == 1:\n",
    "        rWins +=1\n",
    "    elif run == -1:\n",
    "        bWins +=1\n",
    "    else:\n",
    "        draws +=1\n",
    "print(rWins,bWins,draws)"
   ]
  },
  {
   "cell_type": "markdown",
   "metadata": {},
   "source": [
    "### (2a) Define a heuristic function\n",
    "Your A* player will need to use a heuristic function. You have two options for heurstics: research an existing heuristic for Connect Four, or games similar to Connect Four, and use that. Or, design your own heuristic. Write a one-paragraph description of the heuristic you're using, including a citation if you used an existing heuristic."
   ]
  },
  {
   "cell_type": "markdown",
   "metadata": {},
   "source": [
    "I designed my own heuristic function. What I did was similar to chess in the way that I calculated a score based on the state of the board. This score had to be representitive of which color had the advantage in the given postiton. So what I did was I went through the board and found the longest unbroken chains. From there I squared the size of the chain because I felt the size was the most important and I multiplied that by the number of chains of that length the color has. I took into account if both sides had a chain of equal length which is why I multiplied it by the number of chains. Finally, I subtracted the red score and the black score. This gave me a number that was accurate to show how close either side is to winning."
   ]
  },
  {
   "cell_type": "markdown",
   "metadata": {},
   "source": [
    "### (2b) Compare A* to other algorithms\n",
    "Next, play 10 games of Connect Four using your A* player and a random player and 10 games against the AB pruning player. In four or five paragraphs, report on the outcome. Did one player win more than the other? How often was the game a draw? How many moves did each player make? Were there situations where one player appeared to do better than the other? Given the outcome, are there other heuristics you would like to implement?"
   ]
  },
  {
   "cell_type": "markdown",
   "metadata": {},
   "source": [
    "It seems as though the A* algorithm is a lot better than the random player and the AB pruning player. However, I am not sure how accurate the data is because of the runtime problems that have been happening during this project. It seems as though with the current board size the first player wins almost everytime as long as they have some sort of strategy. \n",
    "\n",
    "However, in theory I believe that the AB pruning player would beat out the A* player on a larger board because it can look further down the line at the end game whereas the A* player only looks straight forward but with more accuracy. If you combined the two I would imagine you get something a lot closer to a real bot that doesn't just look at the terminal states for utility but the state of the board. \n",
    "\n",
    "If I were to go back and improve the heurisitc I made I would start by fixing some logic when checking to see diagonal chains. The algorithm does not take into account if the chain can be completed in the near future, for example if there is a 3 in a row diagonal but no coins under the 4th slot then the 3 in a row is basically worthless until there is enough coins to get to the slot. "
   ]
  },
  {
   "cell_type": "code",
   "execution_count": null,
   "metadata": {},
   "outputs": [],
   "source": []
  }
 ],
 "metadata": {
  "kernelspec": {
   "display_name": "Python 3 (ipykernel)",
   "language": "python",
   "name": "python3"
  },
  "language_info": {
   "codemirror_mode": {
    "name": "ipython",
    "version": 3
   },
   "file_extension": ".py",
   "mimetype": "text/x-python",
   "name": "python",
   "nbconvert_exporter": "python",
   "pygments_lexer": "ipython3",
   "version": "3.10.5"
  }
 },
 "nbformat": 4,
 "nbformat_minor": 4
}
